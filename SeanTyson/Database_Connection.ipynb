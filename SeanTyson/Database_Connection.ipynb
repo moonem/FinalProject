{
 "cells": [
  {
   "cell_type": "markdown",
   "id": "ce6f16d7",
   "metadata": {},
   "source": [
    "# Import Dependencies"
   ]
  },
  {
   "cell_type": "code",
   "execution_count": 6,
   "id": "66066158",
   "metadata": {},
   "outputs": [],
   "source": [
    "%matplotlib inline\n",
    "from matplotlib import style\n",
    "style.use('fivethirtyeight')\n",
    "import matplotlib.pyplot as plt\n",
    "import numpy as np\n",
    "import pandas as pd\n",
    "import datetime as dt"
   ]
  },
  {
   "cell_type": "code",
   "execution_count": null,
   "id": "8a6eda6e",
   "metadata": {},
   "outputs": [],
   "source": []
  },
  {
   "cell_type": "code",
   "execution_count": null,
   "id": "804bfce4",
   "metadata": {},
   "outputs": [],
   "source": [
    "df = pandas.read_csv(csvfile)\n",
    "df.to_sql(table_name, conn, if_exists='append', index=False)"
   ]
  },
  {
   "cell_type": "markdown",
   "id": "81f85989",
   "metadata": {},
   "source": [
    "# Reflect Tables into SQLAlchemy ORM\n"
   ]
  },
  {
   "cell_type": "code",
   "execution_count": 7,
   "id": "5672c92c",
   "metadata": {},
   "outputs": [],
   "source": [
    "# Python SQL toolkit and Object Relational Mapper\n",
    "import sqlalchemy\n",
    "from sqlalchemy.ext.automap import automap_base\n",
    "from sqlalchemy.orm import Session\n",
    "from sqlalchemy import create_engine, func"
   ]
  },
  {
   "cell_type": "code",
   "execution_count": 4,
   "id": "89909116",
   "metadata": {},
   "outputs": [],
   "source": [
    "# Create database engine to set up the ability to query a SQLite database\n",
    "#engine = create_engine(\"sqlite:///hawaii.sqlite\")\n",
    "# Base = automap_base()\n",
    "\n",
    "\n",
    "# Reflect the schema of our SQLite tables into our code and create mappings\n",
    "# Base.prepare(engine, reflect=True)\n",
    "\n",
    "# View classes found by Automap\n",
    "# Base.classes.keys()\n"
   ]
  },
  {
   "cell_type": "code",
   "execution_count": null,
   "id": "f90b699c",
   "metadata": {},
   "outputs": [],
   "source": [
    "# Save references to each table\n",
    "# Tablename = Base.classes.tablename\n",
    "# Table2name = Base.classes.table2name"
   ]
  },
  {
   "cell_type": "code",
   "execution_count": null,
   "id": "4f274572",
   "metadata": {},
   "outputs": [],
   "source": [
    "# Create our session (link) from Python to the DB\n",
    "# session = Session(engine)"
   ]
  },
  {
   "cell_type": "code",
   "execution_count": 5,
   "id": "16108199",
   "metadata": {},
   "outputs": [],
   "source": [
    "# Create a variable to store the results of the query\n",
    "# results = []"
   ]
  },
  {
   "cell_type": "code",
   "execution_count": null,
   "id": "ac50a1c0",
   "metadata": {},
   "outputs": [],
   "source": [
    "# results = session.query(Measurement.date, Measurement.prcp)\n",
    "# print(results.all())"
   ]
  },
  {
   "cell_type": "code",
   "execution_count": null,
   "id": "5a62b652",
   "metadata": {},
   "outputs": [],
   "source": [
    "# Example of filtered results\n",
    "# results = session.query(Tablename.column1name, Tablename.column2name).filter(Tablename.column == prev_year)\n"
   ]
  }
 ],
 "metadata": {
  "kernelspec": {
   "display_name": "mlenv",
   "language": "python",
   "name": "mlenv"
  },
  "language_info": {
   "codemirror_mode": {
    "name": "ipython",
    "version": 3
   },
   "file_extension": ".py",
   "mimetype": "text/x-python",
   "name": "python",
   "nbconvert_exporter": "python",
   "pygments_lexer": "ipython3",
   "version": "3.7.10"
  }
 },
 "nbformat": 4,
 "nbformat_minor": 5
}
